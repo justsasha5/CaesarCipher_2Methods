{
 "cells": [
  {
   "cell_type": "markdown",
   "id": "11d750a0",
   "metadata": {},
   "source": [
    "## METHOD#1"
   ]
  },
  {
   "cell_type": "code",
   "execution_count": 55,
   "id": "c6d14635",
   "metadata": {},
   "outputs": [
    {
     "name": "stdout",
     "output_type": "stream",
     "text": [
      "Type 'encode' to encrypt, type 'decode' to decrypt:\n",
      "encode\n",
      "Type your message:\n",
      "Gbjhmo &67f\n",
      "Type the shift number:\n",
      "100\n",
      "Your encoded message is cxfdik &67b\n"
     ]
    }
   ],
   "source": [
    "alphabet = ['a', 'b', 'c', 'd', 'e', 'f', 'g', 'h', 'i', 'j', 'k', 'l', 'm', 'n', 'o', 'p', 'q', 'r', 's', 't', 'u', 'v', 'w', 'x', 'y', 'z']\n",
    "\n",
    "direction = input(\"Type 'encode' to encrypt, type 'decode' to decrypt:\\n\")\n",
    "\n",
    "#Encryption\n",
    "\n",
    "def encrypt(text,shift):\n",
    "    Nlist = list(\"\".join(text))\n",
    "    Flist =[]\n",
    "    Estring = \"\"\n",
    "    \n",
    "    for i in Nlist:\n",
    "#preventative measure for not letter characters\n",
    "        if i not in alphabet:\n",
    "            Flist.append(i)\n",
    "        else:\n",
    "            alpIndex = alphabet.index(i)\n",
    "            newPosition = alpIndex+shift\n",
    "#preventative measure for end of index\n",
    "            if newPosition >= len(alphabet):\n",
    "                Flist.append(alphabet[newPosition-len(alphabet)])\n",
    "            else:\n",
    "                Flist.append(alphabet[newPosition])\n",
    "    for i in Flist:\n",
    "        Estring+=i\n",
    "\n",
    "    print(f\"Your encoded message is {Estring}\")\n",
    "    \n",
    "#Decryption\n",
    "    \n",
    "def decrypt(text, shift):\n",
    "  Nlist = list(\"\".join(text))\n",
    "  Fdlist =[]\n",
    "  Dstring = \"\"\n",
    "\n",
    "  for i in Nlist:\n",
    "      if i not in alphabet:\n",
    "          Fdlist.append(i)\n",
    "      else:\n",
    "          alpIndex = alphabet.index(i)\n",
    "          newPosition = alpIndex-shift\n",
    "\n",
    "          Fdlist.append(alphabet[newPosition])\n",
    "  for i in Fdlist:\n",
    "    Dstring+=i\n",
    "    \n",
    "  print(f\"Your decoded message is {Dstring}\")\n",
    "\n",
    "#choosing direction\n",
    "if direction =='encode':\n",
    "    text = input(\"Type your message:\\n\").lower()\n",
    "    shift = int(input(\"Type the shift number:\\n\"))\n",
    "    shift = shift%len(alphabet)\n",
    "    encrypt(text,shift)\n",
    "elif direction =='decode':\n",
    "    text = input(\"Type your message:\\n\").lower()\n",
    "    shift = int(input(\"Type the shift number:\\n\"))\n",
    "#preventative measure for input of shift higher than length of alphabet\n",
    "    shift = shift%len(alphabet)\n",
    "    decrypt(text,shift)\n",
    "else:\n",
    "    print(\"ERROR: Please input 'encode' or 'decode'\")"
   ]
  },
  {
   "cell_type": "markdown",
   "id": "1c957668",
   "metadata": {},
   "source": [
    "## METHOD #2"
   ]
  },
  {
   "cell_type": "code",
   "execution_count": 56,
   "id": "350cb42b",
   "metadata": {},
   "outputs": [
    {
     "name": "stdout",
     "output_type": "stream",
     "text": [
      "Type 'encode' to encrypt, type 'decode' to decrypt:\n",
      "decode\n",
      "Type your message:\n",
      "zare*\n",
      "Type the shift number:\n",
      "30\n",
      "The new text is vwna*\n"
     ]
    }
   ],
   "source": [
    "alphabet = ['a', 'b', 'c', 'd', 'e', 'f', 'g', 'h', 'i', 'j', 'k', 'l', 'm', 'n', 'o', 'p', 'q', 'r', 's', 't', 'u', 'v', 'w', 'x', 'y', 'z']\n",
    "\n",
    "direction = input(\"Type 'encode' to encrypt, type 'decode' to decrypt:\\n\")\n",
    "\n",
    "def caesar(text, shift, direction):\n",
    "\n",
    "    text1 =\"\"\n",
    "    \n",
    "    for letter in text:\n",
    "       if letter not in alphabet:\n",
    "         text1+=letter \n",
    "       else:\n",
    "           position = alphabet.index(letter)\n",
    "           if direction =='encode':\n",
    "             new_position = position + shift\n",
    "#preventative measure for end of index\n",
    "             if new_position >= len(alphabet):\n",
    "                text1 += alphabet[new_position-len(alphabet)]\n",
    "             else:\n",
    "                text1 += alphabet[new_position]\n",
    "\n",
    "           else:\n",
    "             new_position = position - shift\n",
    "             text1 += alphabet[new_position]\n",
    "  \n",
    "    print(f\"The new text is {text1}\")\n",
    "\n",
    "\n",
    "    \n",
    "if direction =='encode' or direction =='decode':     \n",
    "    text = input(\"Type your message:\\n\").lower()\n",
    "    shift = int(input(\"Type the shift number:\\n\"))\n",
    "    shift = shift%len(alphabet)\n",
    "    caesar(text, shift, direction)\n",
    "else:\n",
    "    print(\"ERROR: Please input 'encode' or 'decode'\")\n"
   ]
  }
 ],
 "metadata": {
  "kernelspec": {
   "display_name": "Python 3 (ipykernel)",
   "language": "python",
   "name": "python3"
  },
  "language_info": {
   "codemirror_mode": {
    "name": "ipython",
    "version": 3
   },
   "file_extension": ".py",
   "mimetype": "text/x-python",
   "name": "python",
   "nbconvert_exporter": "python",
   "pygments_lexer": "ipython3",
   "version": "3.11.4"
  }
 },
 "nbformat": 4,
 "nbformat_minor": 5
}
